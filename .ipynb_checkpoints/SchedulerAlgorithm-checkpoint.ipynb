{
 "cells": [
  {
   "cell_type": "code",
   "execution_count": null,
   "id": "a6d67830",
   "metadata": {},
   "outputs": [],
   "source": [
    "import matplotlib.pyplot as plt\n",
    "%matplotlib inline\n",
    "from IPython import display\n",
    "#!pip install gym #== 0.17.02\n",
    "import numpy as np\n",
    "import gymnasium as gym\n",
    "#import gym"
   ]
  },
  {
   "cell_type": "code",
   "execution_count": 2,
   "id": "83872dd5",
   "metadata": {},
   "outputs": [
    {
     "name": "stdout",
     "output_type": "stream",
     "text": [
      "pygame 2.1.3 (SDL 2.0.22, Python 3.9.13)\n",
      "Hello from the pygame community. https://www.pygame.org/contribute.html\n"
     ]
    }
   ],
   "source": [
    "# environment setup\n",
    "import pygame\n",
    "\n",
    "from gymnasium import spaces"
   ]
  },
  {
   "cell_type": "code",
   "execution_count": 3,
   "id": "c8097c14",
   "metadata": {},
   "outputs": [
    {
     "ename": "SyntaxError",
     "evalue": "invalid syntax (2698118955.py, line 12)",
     "output_type": "error",
     "traceback": [
      "\u001b[1;36m  File \u001b[1;32m\"C:\\Users\\Guo An\\AppData\\Local\\Temp\\ipykernel_12332\\2698118955.py\"\u001b[1;36m, line \u001b[1;32m12\u001b[0m\n\u001b[1;33m    self.observation_space = spaces.Dict {\u001b[0m\n\u001b[1;37m                                         ^\u001b[0m\n\u001b[1;31mSyntaxError\u001b[0m\u001b[1;31m:\u001b[0m invalid syntax\n"
     ]
    }
   ],
   "source": [
    "# import SchedulerEnvironment "
   ]
  },
  {
   "cell_type": "code",
   "execution_count": null,
   "id": "a0a7fc7d",
   "metadata": {},
   "outputs": [],
   "source": [
    "from gymnasium.envs.registration import register\n",
    "\n",
    "register(\n",
    "     id=\"SchedulerEnvironment\",\n",
    "     entry_point=\"gym_examples.envs:SchedulerEnvironment\",\n",
    "     max_episode_steps=300,\n",
    ")"
   ]
  },
  {
   "cell_type": "code",
   "execution_count": null,
   "id": "0a7c6bcb",
   "metadata": {},
   "outputs": [],
   "source": [
    "# example state "
   ]
  },
  {
   "cell_type": "code",
   "execution_count": null,
   "id": "e6c1b4cf",
   "metadata": {},
   "outputs": [],
   "source": [
    "# reward"
   ]
  },
  {
   "cell_type": "code",
   "execution_count": null,
   "id": "2785adbb",
   "metadata": {},
   "outputs": [],
   "source": [
    "# random action. "
   ]
  },
  {
   "cell_type": "code",
   "execution_count": null,
   "id": "69fdde24",
   "metadata": {},
   "outputs": [],
   "source": [
    "# env.step(action) returns state (transition function), "
   ]
  }
 ],
 "metadata": {
  "kernelspec": {
   "display_name": "Python 3 (ipykernel)",
   "language": "python",
   "name": "python3"
  },
  "language_info": {
   "codemirror_mode": {
    "name": "ipython",
    "version": 3
   },
   "file_extension": ".py",
   "mimetype": "text/x-python",
   "name": "python",
   "nbconvert_exporter": "python",
   "pygments_lexer": "ipython3",
   "version": "3.10.9"
  },
  "toc": {
   "base_numbering": 1,
   "nav_menu": {},
   "number_sections": true,
   "sideBar": true,
   "skip_h1_title": false,
   "title_cell": "Table of Contents",
   "title_sidebar": "Contents",
   "toc_cell": false,
   "toc_position": {},
   "toc_section_display": true,
   "toc_window_display": false
  },
  "varInspector": {
   "cols": {
    "lenName": 16,
    "lenType": 16,
    "lenVar": 40
   },
   "kernels_config": {
    "python": {
     "delete_cmd_postfix": "",
     "delete_cmd_prefix": "del ",
     "library": "var_list.py",
     "varRefreshCmd": "print(var_dic_list())"
    },
    "r": {
     "delete_cmd_postfix": ") ",
     "delete_cmd_prefix": "rm(",
     "library": "var_list.r",
     "varRefreshCmd": "cat(var_dic_list()) "
    }
   },
   "types_to_exclude": [
    "module",
    "function",
    "builtin_function_or_method",
    "instance",
    "_Feature"
   ],
   "window_display": false
  }
 },
 "nbformat": 4,
 "nbformat_minor": 5
}
